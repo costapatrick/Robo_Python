{
 "cells": [
  {
   "cell_type": "markdown",
   "metadata": {},
   "source": [
    "## Exercício Treliça"
   ]
  },
  {
   "cell_type": "markdown",
   "metadata": {},
   "source": [
    "<img src=\"trelica_simples.png\" style=\"width:200px;height:200px\"/>"
   ]
  },
  {
   "cell_type": "markdown",
   "metadata": {},
   "source": [
    "### Importando módulos"
   ]
  },
  {
   "cell_type": "code",
   "execution_count": 347,
   "metadata": {},
   "outputs": [],
   "source": [
    "import numpy as np\n",
    "import pandas as pd\n",
    "import matplotlib.pyplot as plt"
   ]
  },
  {
   "cell_type": "markdown",
   "metadata": {},
   "source": [
    "### Importando Dados"
   ]
  },
  {
   "cell_type": "code",
   "execution_count": 348,
   "metadata": {},
   "outputs": [],
   "source": [
    "nos = pd.read_excel('trelica.xlsx', sheet_name='nos')\n",
    "barras = pd.read_excel('trelica.xlsx', sheet_name='barras')\n",
    "\n",
    "# Ajustando o numero de nos e barras\n",
    "nos.index += 1\n",
    "barras.index += 1\n",
    "\n",
    "# Remoção dos NaN's trocando por zeros\n",
    "nos.fillna(0, inplace=True)"
   ]
  },
  {
   "cell_type": "markdown",
   "metadata": {},
   "source": [
    "### Representação dos Nós e das Barras"
   ]
  },
  {
   "cell_type": "code",
   "execution_count": 349,
   "metadata": {},
   "outputs": [
    {
     "data": {
      "text/html": [
       "<div>\n",
       "<style scoped>\n",
       "    .dataframe tbody tr th:only-of-type {\n",
       "        vertical-align: middle;\n",
       "    }\n",
       "\n",
       "    .dataframe tbody tr th {\n",
       "        vertical-align: top;\n",
       "    }\n",
       "\n",
       "    .dataframe thead th {\n",
       "        text-align: right;\n",
       "    }\n",
       "</style>\n",
       "<table border=\"1\" class=\"dataframe\">\n",
       "  <thead>\n",
       "    <tr style=\"text-align: right;\">\n",
       "      <th></th>\n",
       "      <th>X</th>\n",
       "      <th>Y</th>\n",
       "      <th>RX</th>\n",
       "      <th>RY</th>\n",
       "      <th>FX</th>\n",
       "      <th>FY</th>\n",
       "    </tr>\n",
       "  </thead>\n",
       "  <tbody>\n",
       "    <tr>\n",
       "      <th>1</th>\n",
       "      <td>0</td>\n",
       "      <td>0</td>\n",
       "      <td>1.0</td>\n",
       "      <td>1.0</td>\n",
       "      <td>0</td>\n",
       "      <td>0</td>\n",
       "    </tr>\n",
       "    <tr>\n",
       "      <th>2</th>\n",
       "      <td>4000</td>\n",
       "      <td>0</td>\n",
       "      <td>0.0</td>\n",
       "      <td>1.0</td>\n",
       "      <td>0</td>\n",
       "      <td>0</td>\n",
       "    </tr>\n",
       "    <tr>\n",
       "      <th>3</th>\n",
       "      <td>4000</td>\n",
       "      <td>6000</td>\n",
       "      <td>0.0</td>\n",
       "      <td>0.0</td>\n",
       "      <td>12000</td>\n",
       "      <td>0</td>\n",
       "    </tr>\n",
       "  </tbody>\n",
       "</table>\n",
       "</div>"
      ],
      "text/plain": [
       "      X     Y   RX   RY     FX  FY\n",
       "1     0     0  1.0  1.0      0   0\n",
       "2  4000     0  0.0  1.0      0   0\n",
       "3  4000  6000  0.0  0.0  12000   0"
      ]
     },
     "execution_count": 349,
     "metadata": {},
     "output_type": "execute_result"
    }
   ],
   "source": [
    "nos"
   ]
  },
  {
   "cell_type": "code",
   "execution_count": 350,
   "metadata": {},
   "outputs": [
    {
     "data": {
      "text/html": [
       "<div>\n",
       "<style scoped>\n",
       "    .dataframe tbody tr th:only-of-type {\n",
       "        vertical-align: middle;\n",
       "    }\n",
       "\n",
       "    .dataframe tbody tr th {\n",
       "        vertical-align: top;\n",
       "    }\n",
       "\n",
       "    .dataframe thead th {\n",
       "        text-align: right;\n",
       "    }\n",
       "</style>\n",
       "<table border=\"1\" class=\"dataframe\">\n",
       "  <thead>\n",
       "    <tr style=\"text-align: right;\">\n",
       "      <th></th>\n",
       "      <th>N1</th>\n",
       "      <th>N2</th>\n",
       "      <th>A</th>\n",
       "      <th>E</th>\n",
       "    </tr>\n",
       "  </thead>\n",
       "  <tbody>\n",
       "    <tr>\n",
       "      <th>1</th>\n",
       "      <td>1</td>\n",
       "      <td>2</td>\n",
       "      <td>2300</td>\n",
       "      <td>200000</td>\n",
       "    </tr>\n",
       "    <tr>\n",
       "      <th>2</th>\n",
       "      <td>2</td>\n",
       "      <td>3</td>\n",
       "      <td>2300</td>\n",
       "      <td>200000</td>\n",
       "    </tr>\n",
       "    <tr>\n",
       "      <th>3</th>\n",
       "      <td>1</td>\n",
       "      <td>3</td>\n",
       "      <td>2300</td>\n",
       "      <td>200000</td>\n",
       "    </tr>\n",
       "  </tbody>\n",
       "</table>\n",
       "</div>"
      ],
      "text/plain": [
       "   N1  N2     A       E\n",
       "1   1   2  2300  200000\n",
       "2   2   3  2300  200000\n",
       "3   1   3  2300  200000"
      ]
     },
     "execution_count": 350,
     "metadata": {},
     "output_type": "execute_result"
    }
   ],
   "source": [
    "barras"
   ]
  },
  {
   "cell_type": "markdown",
   "metadata": {},
   "source": [
    "### Propriedades das barras"
   ]
  },
  {
   "cell_type": "code",
   "execution_count": 351,
   "metadata": {},
   "outputs": [
    {
     "data": {
      "text/html": [
       "<div>\n",
       "<style scoped>\n",
       "    .dataframe tbody tr th:only-of-type {\n",
       "        vertical-align: middle;\n",
       "    }\n",
       "\n",
       "    .dataframe tbody tr th {\n",
       "        vertical-align: top;\n",
       "    }\n",
       "\n",
       "    .dataframe thead th {\n",
       "        text-align: right;\n",
       "    }\n",
       "</style>\n",
       "<table border=\"1\" class=\"dataframe\">\n",
       "  <thead>\n",
       "    <tr style=\"text-align: right;\">\n",
       "      <th></th>\n",
       "      <th>N1</th>\n",
       "      <th>N2</th>\n",
       "      <th>A</th>\n",
       "      <th>E</th>\n",
       "      <th>L</th>\n",
       "      <th>sen</th>\n",
       "      <th>cos</th>\n",
       "    </tr>\n",
       "  </thead>\n",
       "  <tbody>\n",
       "    <tr>\n",
       "      <th>1</th>\n",
       "      <td>1</td>\n",
       "      <td>2</td>\n",
       "      <td>2300</td>\n",
       "      <td>200000</td>\n",
       "      <td>4000.000000</td>\n",
       "      <td>0.00000</td>\n",
       "      <td>1.0000</td>\n",
       "    </tr>\n",
       "    <tr>\n",
       "      <th>2</th>\n",
       "      <td>2</td>\n",
       "      <td>3</td>\n",
       "      <td>2300</td>\n",
       "      <td>200000</td>\n",
       "      <td>6000.000000</td>\n",
       "      <td>1.00000</td>\n",
       "      <td>0.0000</td>\n",
       "    </tr>\n",
       "    <tr>\n",
       "      <th>3</th>\n",
       "      <td>1</td>\n",
       "      <td>3</td>\n",
       "      <td>2300</td>\n",
       "      <td>200000</td>\n",
       "      <td>7211.102551</td>\n",
       "      <td>0.83205</td>\n",
       "      <td>0.5547</td>\n",
       "    </tr>\n",
       "  </tbody>\n",
       "</table>\n",
       "</div>"
      ],
      "text/plain": [
       "   N1  N2     A       E            L      sen     cos\n",
       "1   1   2  2300  200000  4000.000000  0.00000  1.0000\n",
       "2   2   3  2300  200000  6000.000000  1.00000  0.0000\n",
       "3   1   3  2300  200000  7211.102551  0.83205  0.5547"
      ]
     },
     "execution_count": 351,
     "metadata": {},
     "output_type": "execute_result"
    }
   ],
   "source": [
    "Ls = []\n",
    "senos = []\n",
    "cossenos = []\n",
    "\n",
    "for barra in barras.index:\n",
    "    # Nós que compõem as barras\n",
    "    N1, N2 = barras.loc[barra, ['N1', 'N2']]\n",
    "    \n",
    "    # Determinação das coordenadas\n",
    "    x1, y1 = nos.loc[N1, ['X', 'Y']]\n",
    "    x2, y2 = nos.loc[N2, ['X', 'Y']]\n",
    "    \n",
    "    # Projeções nos eixos X e Y\n",
    "    LX = x2 - x1\n",
    "    LY = y2 - y1\n",
    "    \n",
    "    # Tamanho real da barra\n",
    "    L = np.sqrt(LX**2 + LY**2)\n",
    "    \n",
    "    # Seno e cosseno\n",
    "    seno = LY/L\n",
    "    coss = LX/L \n",
    "    \n",
    "    # Pendurando nas listas\n",
    "    Ls.append(L)\n",
    "    senos.append(seno)\n",
    "    cossenos.append(coss)\n",
    "\n",
    "barras['L'] = Ls\n",
    "barras['sen'] = senos\n",
    "barras['cos'] = cossenos\n",
    "\n",
    "barras"
   ]
  },
  {
   "cell_type": "markdown",
   "metadata": {},
   "source": [
    "### Matriz de Rigidez Local e Global"
   ]
  },
  {
   "cell_type": "code",
   "execution_count": 352,
   "metadata": {},
   "outputs": [
    {
     "name": "stdout",
     "output_type": "stream",
     "text": [
      "(6, 6) \n",
      "\n",
      "36 \n",
      " \n",
      "\n",
      "[[ 134627.8530972    29441.7796458  -115000.               0.\n",
      "   -19627.8530972   -29441.7796458 ]\n",
      " [  29441.7796458    44162.6694687        0.               0.\n",
      "   -29441.7796458   -44162.6694687 ]\n",
      " [-115000.               0.          115000.               0.\n",
      "        0.               0.        ]\n",
      " [      0.               0.               0.           76666.66666667\n",
      "        0.          -76666.66666667]\n",
      " [ -19627.8530972   -29441.7796458        0.               0.\n",
      "    19627.8530972    29441.7796458 ]\n",
      " [ -29441.7796458   -44162.6694687        0.          -76666.66666667\n",
      "    29441.7796458   120829.33613537]]\n"
     ]
    }
   ],
   "source": [
    "# Pré alocando a matriz de rigidez global\n",
    "maxgl = 2*len(nos.index)\n",
    "K = np.zeros([maxgl, maxgl])\n",
    "K2 = np.zeros([maxgl, maxgl])\n",
    "\n",
    "print(np.shape(K), '\\n')\n",
    "print(np.size(K), '\\n', '\\n')\n",
    "\n",
    "for barra in barras.index:\n",
    "    N1, N2, A, E, L, sen, cos = barras.loc[barra]\n",
    "    \n",
    "    # Matriz de rigidez no sistema local \n",
    "    Kl = E*A/L*np.array([[ 1, 0,-1, 0],\n",
    "                         [ 0, 0, 0, 0], \n",
    "                         [-1, 0, 1, 0],\n",
    "                         [ 0, 0, 0, 0]])\n",
    "\n",
    "    # Matriz de rotação\n",
    "    Mrot = np.array([[ cos,  sen,    0,   0],\n",
    "                     [-sen,  cos,    0,   0],\n",
    "                     [    0,   0,  cos, sen],\n",
    "                     [    0,   0, -sen, cos]])\n",
    "    \n",
    "       # Rotação da matriz de rigidez\n",
    "    Klr = np.dot(np.dot(Mrot.T, Kl), Mrot)\n",
    "    \n",
    "        # Determinação dos gls\n",
    "    gl1 = int(2*N1-1)\n",
    "    gl2 = int(2*N1)\n",
    "    gl3 = int(2*N2-1)\n",
    "    gl4 = int(2*N2)\n",
    "    \n",
    "    # Acoplamento da matriz global \n",
    "    K[gl1-1:gl2, gl1-1:gl2] += Klr[0:2, 0:2]\n",
    "    K[gl3-1:gl4, gl1-1:gl2] += Klr[2:4, 0:2]\n",
    "    K[gl1-1:gl2, gl3-1:gl4] += Klr[0:2, 2:4]\n",
    "    K[gl3-1:gl4, gl3-1:gl4] += Klr[2:4, 2:4]\n",
    "    \n",
    "\n",
    "print(K)\n",
    "\n",
    "    "
   ]
  },
  {
   "cell_type": "markdown",
   "metadata": {},
   "source": [
    "### Condições de Contorno"
   ]
  },
  {
   "cell_type": "code",
   "execution_count": 353,
   "metadata": {},
   "outputs": [
    {
     "name": "stdout",
     "output_type": "stream",
     "text": [
      "Restringindo deslocamento em X no nó 1.\n",
      "Restringindo deslocamento em Y no nó 1.\n",
      "Restringindo deslocamento em Y no nó 2.\n"
     ]
    }
   ],
   "source": [
    "Kr = np.copy(K)  \n",
    "\n",
    "# Impondo condições de apoio\n",
    "for no in nos.index:\n",
    "    # Importando dados dos nós \n",
    "    RX, RY = nos.loc[no, ['RX','RY']]\n",
    "    \n",
    "    # Determinar graus de liberdade\n",
    "    gl1 = int(2*no-1)\n",
    "    gl2 = int(2*no)\n",
    "    \n",
    "    # Condição dos apoios\n",
    "    if RX == 1:\n",
    "        Kr[:, gl1-1] = 0\n",
    "        Kr[gl1-1, :] = 0\n",
    "        Kr[gl1-1, gl1-1] = 1\n",
    "        print('Restringindo deslocamento em X no nó {}.'.format(no))\n",
    "        \n",
    "    if RY == 1:\n",
    "        Kr[:, gl2-1] = 0\n",
    "        Kr[gl2-1, :] = 0\n",
    "        Kr[gl2-1, gl2-1] = 1\n",
    "        print('Restringindo deslocamento em Y no nó {}.'.format(no))"
   ]
  },
  {
   "cell_type": "markdown",
   "metadata": {},
   "source": [
    "### Verificação da consistência da matriz de rigidez"
   ]
  },
  {
   "cell_type": "code",
   "execution_count": 354,
   "metadata": {},
   "outputs": [
    {
     "data": {
      "text/plain": [
       "<matplotlib.colorbar.Colorbar at 0x1e0ac92f100>"
      ]
     },
     "execution_count": 354,
     "metadata": {},
     "output_type": "execute_result"
    },
    {
     "data": {
      "image/png": "[encoded data removed]",
      "text/plain": [
       "<Figure size 432x288 with 2 Axes>"
      ]
     },
     "metadata": {
      "needs_background": "light"
     },
     "output_type": "display_data"
    }
   ],
   "source": [
    "plt.pcolormesh(K)\n",
    "plt.colorbar()"
   ]
  },
  {
   "cell_type": "markdown",
   "metadata": {},
   "source": [
    "### Montagem do vetor de Forças"
   ]
  },
  {
   "cell_type": "code",
   "execution_count": 355,
   "metadata": {},
   "outputs": [
    {
     "name": "stdout",
     "output_type": "stream",
     "text": [
      "[    0.     0.     0.     0. 12000.     0.]\n"
     ]
    }
   ],
   "source": [
    "F = np.zeros([maxgl])\n",
    "\n",
    "for no in nos.index:\n",
    "    # Importando dados dos nós \n",
    "    FX, FY = nos.loc[no, ['FX','FY']]\n",
    "    \n",
    "    # Determinar graus de liberdade\n",
    "    gl1 = int(2*no-1)\n",
    "    gl2 = int(2*no)\n",
    "    \n",
    "    # Se existir carga aplica no vetor\n",
    "    if FX != 0: \n",
    "        F[gl1-1] = FX\n",
    "        \n",
    "    if FY != 0: \n",
    "        F[gl2-1] = FY\n",
    "        \n",
    "print(F)"
   ]
  },
  {
   "cell_type": "markdown",
   "metadata": {},
   "source": [
    "### Teste da matriz singular"
   ]
  },
  {
   "cell_type": "code",
   "execution_count": 356,
   "metadata": {},
   "outputs": [
    {
     "name": "stdout",
     "output_type": "stream",
     "text": [
      "Determinante da matriz K= -4.777920827224089e-20\n",
      "Determinante da matriz Kr= 173052238140317.06\n"
     ]
    }
   ],
   "source": [
    "# Resolução do sistema\n",
    "# A.x = b \n",
    "print(\"Determinante da matriz K=\", np.linalg.det(K)) # sem as C.C\n",
    "print(\"Determinante da matriz Kr=\", np.linalg.det(Kr)) # já com as C.C"
   ]
  },
  {
   "cell_type": "markdown",
   "metadata": {},
   "source": [
    "### Cálculo dos Deslocamentos"
   ]
  },
  {
   "cell_type": "code",
   "execution_count": 357,
   "metadata": {},
   "outputs": [
    {
     "name": "stdout",
     "output_type": "stream",
     "text": [
      "[ 0.          0.          0.          0.          0.96355    -0.23478261]\n"
     ]
    }
   ],
   "source": [
    "D = np.linalg.solve(Kr, F)\n",
    "print(D)"
   ]
  },
  {
   "cell_type": "markdown",
   "metadata": {},
   "source": [
    "### Cálculo das Reações de Apoio"
   ]
  },
  {
   "cell_type": "code",
   "execution_count": 358,
   "metadata": {},
   "outputs": [
    {
     "name": "stdout",
     "output_type": "stream",
     "text": [
      "[-12000. -18000.      0.  18000.  12000.      0.]\n"
     ]
    }
   ],
   "source": [
    "R = np.dot(K, D)\n",
    "print(R)"
   ]
  },
  {
   "cell_type": "markdown",
   "metadata": {},
   "source": [
    "### Determinação dos esforços internos"
   ]
  },
  {
   "cell_type": "code",
   "execution_count": 359,
   "metadata": {},
   "outputs": [],
   "source": [
    "Esf = []\n",
    "\n",
    "for barra in barras.index:\n",
    "        N1, N2, A, E, L, sen, cos = barras.loc[barra]\n",
    "\n",
    "        # Matriz de rigidez no sistema local \n",
    "        Kl = E*A/L*np.array([[ 1, 0,-1, 0],\n",
    "                             [ 0, 0, 0, 0], \n",
    "                             [-1, 0, 1, 0],\n",
    "                             [ 0, 0, 0, 0]])\n",
    "\n",
    "        # Matriz de rotação\n",
    "        Mrot = np.array([[ cos,  sen,    0,   0],\n",
    "                         [-sen,  cos,    0,   0],\n",
    "                         [    0,   0,  cos, sen],\n",
    "                         [    0,   0, -sen, cos]])\n",
    "\n",
    "        # Determinação dos gls\n",
    "        gl1 = int(2*N1-1)\n",
    "        gl2 = int(2*N1)\n",
    "        gl3 = int(2*N2-1)\n",
    "        gl4 = int(2*N2)\n",
    "\n",
    "        # Capturar os deslocamentos\n",
    "        Dlg = np.zeros([4])\n",
    "        Dlg[0] = D[gl1-1]\n",
    "        Dlg[1] = D[gl2-1]\n",
    "        Dlg[2] = D[gl3-1]\n",
    "        Dlg[3] = D[gl4-1]\n",
    "\n",
    "        # Rotaciona Dlg\n",
    "        Dl = np.dot(Mrot, Dlg)\n",
    "\n",
    "        # Determina esforços no sentido da barra \n",
    "        Fl = np.dot(Kl, Dl)\n",
    "        FAx = Fl[2]\n",
    "        Esf.append(FAx)\n"
   ]
  },
  {
   "cell_type": "code",
   "execution_count": 360,
   "metadata": {},
   "outputs": [
    {
     "data": {
      "text/plain": [
       "[0.0, -17999.99999999999, 21633.30765278393]"
      ]
     },
     "execution_count": 360,
     "metadata": {},
     "output_type": "execute_result"
    }
   ],
   "source": [
    "Esf"
   ]
  },
  {
   "cell_type": "markdown",
   "metadata": {},
   "source": [
    "### Determinação das tensões nas barras"
   ]
  },
  {
   "cell_type": "code",
   "execution_count": 361,
   "metadata": {},
   "outputs": [
    {
     "name": "stdout",
     "output_type": "stream",
     "text": [
      "[ 0.         -7.82608696  9.40578594]\n"
     ]
    }
   ],
   "source": [
    "Ten = np.divide(Esf, A)\n",
    "print(Ten)"
   ]
  },
  {
   "cell_type": "markdown",
   "metadata": {},
   "source": [
    "### Inserindo os Esforços e Tensões na planilha"
   ]
  },
  {
   "cell_type": "code",
   "execution_count": 362,
   "metadata": {},
   "outputs": [
    {
     "data": {
      "text/html": [
       "<div>\n",
       "<style scoped>\n",
       "    .dataframe tbody tr th:only-of-type {\n",
       "        vertical-align: middle;\n",
       "    }\n",
       "\n",
       "    .dataframe tbody tr th {\n",
       "        vertical-align: top;\n",
       "    }\n",
       "\n",
       "    .dataframe thead th {\n",
       "        text-align: right;\n",
       "    }\n",
       "</style>\n",
       "<table border=\"1\" class=\"dataframe\">\n",
       "  <thead>\n",
       "    <tr style=\"text-align: right;\">\n",
       "      <th></th>\n",
       "      <th>N1</th>\n",
       "      <th>N2</th>\n",
       "      <th>A</th>\n",
       "      <th>E</th>\n",
       "      <th>L</th>\n",
       "      <th>sen</th>\n",
       "      <th>cos</th>\n",
       "      <th>Esf</th>\n",
       "      <th>Ten</th>\n",
       "    </tr>\n",
       "  </thead>\n",
       "  <tbody>\n",
       "    <tr>\n",
       "      <th>1</th>\n",
       "      <td>1</td>\n",
       "      <td>2</td>\n",
       "      <td>2300</td>\n",
       "      <td>200000</td>\n",
       "      <td>4000.000000</td>\n",
       "      <td>0.00000</td>\n",
       "      <td>1.0000</td>\n",
       "      <td>0.000000</td>\n",
       "      <td>0.000000</td>\n",
       "    </tr>\n",
       "    <tr>\n",
       "      <th>2</th>\n",
       "      <td>2</td>\n",
       "      <td>3</td>\n",
       "      <td>2300</td>\n",
       "      <td>200000</td>\n",
       "      <td>6000.000000</td>\n",
       "      <td>1.00000</td>\n",
       "      <td>0.0000</td>\n",
       "      <td>-18000.000000</td>\n",
       "      <td>-7.826087</td>\n",
       "    </tr>\n",
       "    <tr>\n",
       "      <th>3</th>\n",
       "      <td>1</td>\n",
       "      <td>3</td>\n",
       "      <td>2300</td>\n",
       "      <td>200000</td>\n",
       "      <td>7211.102551</td>\n",
       "      <td>0.83205</td>\n",
       "      <td>0.5547</td>\n",
       "      <td>21633.307653</td>\n",
       "      <td>9.405786</td>\n",
       "    </tr>\n",
       "  </tbody>\n",
       "</table>\n",
       "</div>"
      ],
      "text/plain": [
       "   N1  N2     A       E            L      sen     cos           Esf       Ten\n",
       "1   1   2  2300  200000  4000.000000  0.00000  1.0000      0.000000  0.000000\n",
       "2   2   3  2300  200000  6000.000000  1.00000  0.0000 -18000.000000 -7.826087\n",
       "3   1   3  2300  200000  7211.102551  0.83205  0.5547  21633.307653  9.405786"
      ]
     },
     "execution_count": 362,
     "metadata": {},
     "output_type": "execute_result"
    }
   ],
   "source": [
    "barras['Esf'] = Esf\n",
    "barras['Ten'] = Ten\n",
    "barras"
   ]
  },
  {
   "cell_type": "markdown",
   "metadata": {},
   "source": [
    "### Inserindo os deslocamentos na planilha"
   ]
  },
  {
   "cell_type": "code",
   "execution_count": 363,
   "metadata": {},
   "outputs": [
    {
     "data": {
      "text/html": [
       "<div>\n",
       "<style scoped>\n",
       "    .dataframe tbody tr th:only-of-type {\n",
       "        vertical-align: middle;\n",
       "    }\n",
       "\n",
       "    .dataframe tbody tr th {\n",
       "        vertical-align: top;\n",
       "    }\n",
       "\n",
       "    .dataframe thead th {\n",
       "        text-align: right;\n",
       "    }\n",
       "</style>\n",
       "<table border=\"1\" class=\"dataframe\">\n",
       "  <thead>\n",
       "    <tr style=\"text-align: right;\">\n",
       "      <th></th>\n",
       "      <th>X</th>\n",
       "      <th>Y</th>\n",
       "      <th>RX</th>\n",
       "      <th>RY</th>\n",
       "      <th>FX</th>\n",
       "      <th>FY</th>\n",
       "      <th>Dx</th>\n",
       "      <th>Dy</th>\n",
       "    </tr>\n",
       "  </thead>\n",
       "  <tbody>\n",
       "    <tr>\n",
       "      <th>1</th>\n",
       "      <td>0</td>\n",
       "      <td>0</td>\n",
       "      <td>1.0</td>\n",
       "      <td>1.0</td>\n",
       "      <td>0</td>\n",
       "      <td>0</td>\n",
       "      <td>0.00000</td>\n",
       "      <td>0.000000</td>\n",
       "    </tr>\n",
       "    <tr>\n",
       "      <th>2</th>\n",
       "      <td>4000</td>\n",
       "      <td>0</td>\n",
       "      <td>0.0</td>\n",
       "      <td>1.0</td>\n",
       "      <td>0</td>\n",
       "      <td>0</td>\n",
       "      <td>0.00000</td>\n",
       "      <td>0.000000</td>\n",
       "    </tr>\n",
       "    <tr>\n",
       "      <th>3</th>\n",
       "      <td>4000</td>\n",
       "      <td>6000</td>\n",
       "      <td>0.0</td>\n",
       "      <td>0.0</td>\n",
       "      <td>12000</td>\n",
       "      <td>0</td>\n",
       "      <td>0.96355</td>\n",
       "      <td>-0.234783</td>\n",
       "    </tr>\n",
       "  </tbody>\n",
       "</table>\n",
       "</div>"
      ],
      "text/plain": [
       "      X     Y   RX   RY     FX  FY       Dx        Dy\n",
       "1     0     0  1.0  1.0      0   0  0.00000  0.000000\n",
       "2  4000     0  0.0  1.0      0   0  0.00000  0.000000\n",
       "3  4000  6000  0.0  0.0  12000   0  0.96355 -0.234783"
      ]
     },
     "execution_count": 363,
     "metadata": {},
     "output_type": "execute_result"
    }
   ],
   "source": [
    "Dx = []\n",
    "Dy = []\n",
    "\n",
    "for no in nos.index:\n",
    "    gl1 = int(2*no-1)\n",
    "    gl2 = int(2*no)\n",
    "    \n",
    "    Dx.append(D[gl1-1])\n",
    "    Dy.append(D[gl2-1])\n",
    "\n",
    "nos['Dx'] = Dx\n",
    "nos['Dy'] = Dy \n",
    "\n",
    "nos"
   ]
  },
  {
   "cell_type": "markdown",
   "metadata": {},
   "source": [
    "                                                     Fim da rotina !!!!\n",
    "                                \n",
    "\n",
    " <img src=\"ufrgs.jpg\" style=\"width:150px;height:150px\"/>                    \n",
    " \n",
    " \n",
    " Author: COSTA, P.O.B.                                                                           \n",
    "                              \n",
    "                              \n",
    "                              \n",
    "\n",
    "                "
   ]
  }
 ],
 "metadata": {
  "kernelspec": {
   "display_name": "Python 3",
   "language": "python",
   "name": "python3"
  },
  "language_info": {
   "codemirror_mode": {
    "name": "ipython",
    "version": 3
   },
   "file_extension": ".py",
   "mimetype": "text/x-python",
   "name": "python",
   "nbconvert_exporter": "python",
   "pygments_lexer": "ipython3",
   "version": "3.8.5"
  }
 },
 "nbformat": 4,
 "nbformat_minor": 4
}
